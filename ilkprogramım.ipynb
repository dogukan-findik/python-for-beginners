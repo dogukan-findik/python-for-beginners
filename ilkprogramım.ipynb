{
  "nbformat": 4,
  "nbformat_minor": 0,
  "metadata": {
    "colab": {
      "provenance": [],
      "authorship_tag": "ABX9TyMANskhEti5tWJu2J5El9Zw",
      "include_colab_link": true
    },
    "kernelspec": {
      "name": "python3",
      "display_name": "Python 3"
    },
    "language_info": {
      "name": "python"
    }
  },
  "cells": [
    {
      "cell_type": "markdown",
      "metadata": {
        "id": "view-in-github",
        "colab_type": "text"
      },
      "source": [
        "<a href=\"https://colab.research.google.com/github/dogukan-findik/python-for-beginners/blob/main/ilkprogram%C4%B1m.ipynb\" target=\"_parent\"><img src=\"https://colab.research.google.com/assets/colab-badge.svg\" alt=\"Open In Colab\"/></a>"
      ]
    },
    {
      "cell_type": "code",
      "execution_count": null,
      "metadata": {
        "colab": {
          "base_uri": "https://localhost:8080/"
        },
        "id": "vkPRrI72ia9L",
        "outputId": "e33d6649-ae8f-4b95-9e82-36a3d78bb01b"
      },
      "outputs": [
        {
          "output_type": "stream",
          "name": "stdout",
          "text": [
            "adı gir:dogukan\n",
            "dogukan\n",
            "sayi gir:23\n",
            "sayi 2 gir:34\n",
            "çıkar: -11 \n",
            " topla: 57\n"
          ]
        }
      ],
      "source": [
        "kullanıcı_adı=input(\"adı gir:\")\n",
        "print(kullanıcı_adı)\n",
        "sayi1=int(input(\"sayi gir:\"))\n",
        "sayi2=int(input(\"sayi 2 gir:\"))\n",
        "\n",
        "cıkarma = sayi1 - sayi2\n",
        "toplama = sayi1 + sayi2\n",
        "\n",
        "print(\"çıkar:\",cıkarma, \"\\n\",\"topla:\",toplama)"
      ]
    },
    {
      "cell_type": "code",
      "source": [
        "ad=\"dogukan\"\n",
        "şifre=\"1234\"\n",
        "\n",
        "password=input(\"şifre girirniz:\")\n",
        "\n",
        "if password != şifre:\n",
        "  print(\"şifre hatalı\")\n",
        "\n",
        "else:\n",
        "   print(\"hoşgeldiniz\")\n",
        "\n"
      ],
      "metadata": {
        "colab": {
          "base_uri": "https://localhost:8080/"
        },
        "id": "7hyEwR1EuhMz",
        "outputId": "4937276b-c3f7-4408-b612-90539badb61c"
      },
      "execution_count": null,
      "outputs": [
        {
          "output_type": "stream",
          "name": "stdout",
          "text": [
            "şifre girirniz:1234\n",
            "hoşgeldiniz\n"
          ]
        }
      ]
    },
    {
      "cell_type": "code",
      "source": [
        "x=int(input(\"sayi giriniz\"))\n",
        "y=int(input(\"bir sayi daha giriniz\"))\n",
        "\n",
        "if x > y:\n",
        "  print(\"x büyüktür\")\n",
        "\n",
        "elif x == y:\n",
        "    print(\"x ve y birbirine eşittir\")\n",
        "\n",
        "else:\n",
        "    print(\"y büyüktür\")"
      ],
      "metadata": {
        "colab": {
          "base_uri": "https://localhost:8080/"
        },
        "id": "Y2DgQ8_L7rZt",
        "outputId": "5f4a6800-aa5f-488a-db77-49e37a6e4884"
      },
      "execution_count": null,
      "outputs": [
        {
          "output_type": "stream",
          "name": "stdout",
          "text": [
            "sayi giriniz12\n",
            "bir sayi daha giriniz13\n",
            "y büyüktür\n"
          ]
        }
      ]
    },
    {
      "cell_type": "code",
      "source": [
        "yas=int(input(\"yaşınızı giriniz:\"))\n",
        "mezuniyet=input(\"mezuniyet durumunuzu giriniz:\")\n",
        "\n",
        "if yas>=18 and (mezuniyet==\"ilkokul\" or mezuniyet==\"lise\" or mezuniyet==\"üniversite\"):\n",
        "  print(\"ehliyet alabilirsiniz\")\n",
        "\n",
        "else:\n",
        "  print(\"ehliyet alamazsınız\")"
      ],
      "metadata": {
        "colab": {
          "base_uri": "https://localhost:8080/"
        },
        "id": "px1HJRJ79Ihf",
        "outputId": "a8db8398-3836-4efa-cb12-8284dda31e4f"
      },
      "execution_count": null,
      "outputs": [
        {
          "output_type": "stream",
          "name": "stdout",
          "text": [
            "yaşınızı giriniz:23\n",
            "mezuniyet durumunuzu giriniz:lise\n",
            "ehliyet alabilirsiniz\n"
          ]
        }
      ]
    }
  ]
}